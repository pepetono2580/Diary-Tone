{
 "cells": [
  {
   "cell_type": "markdown",
   "id": "5b33e3be-83e5-41c8-adc5-464173522288",
   "metadata": {},
   "source": [
    "# Get the file paths"
   ]
  },
  {
   "cell_type": "code",
   "execution_count": 36,
   "id": "e3717132-347a-4ad4-bfc5-8f2fea84eff8",
   "metadata": {},
   "outputs": [
    {
     "name": "stdout",
     "output_type": "stream",
     "text": [
      "['diary\\\\2023-10-21.txt', 'diary\\\\2023-10-22.txt', 'diary\\\\2023-10-23.txt', 'diary\\\\2023-10-24.txt', 'diary\\\\2023-10-25.txt', 'diary\\\\2023-10-26.txt', 'diary\\\\2023-10-27.txt']\n"
     ]
    }
   ],
   "source": [
    "import glob\n",
    "\n",
    "files = glob.glob(\"diary/*.txt\")\n",
    "print(files)"
   ]
  },
  {
   "cell_type": "markdown",
   "id": "23169b4b-d5ad-485e-a078-a067e9bc0ed1",
   "metadata": {},
   "source": [
    "# Sort the files by date"
   ]
  },
  {
   "cell_type": "code",
   "execution_count": 37,
   "id": "6cf499c6-0dfb-44b5-81b9-921793b6d078",
   "metadata": {},
   "outputs": [
    {
     "data": {
      "text/plain": [
       "['diary\\\\2023-10-21.txt',\n",
       " 'diary\\\\2023-10-22.txt',\n",
       " 'diary\\\\2023-10-23.txt',\n",
       " 'diary\\\\2023-10-24.txt',\n",
       " 'diary\\\\2023-10-25.txt',\n",
       " 'diary\\\\2023-10-26.txt',\n",
       " 'diary\\\\2023-10-27.txt']"
      ]
     },
     "execution_count": 37,
     "metadata": {},
     "output_type": "execute_result"
    }
   ],
   "source": [
    "sorted(files)"
   ]
  },
  {
   "cell_type": "markdown",
   "id": "103d5e3b-ce15-4522-ab45-0920dc6207d4",
   "metadata": {},
   "source": [
    "# Read the files and assign it to a dictionary"
   ]
  },
  {
   "cell_type": "code",
   "execution_count": 42,
   "id": "a8b9aff8-5523-4208-8c4d-30fd643208c5",
   "metadata": {},
   "outputs": [],
   "source": [
    "d_files = []\n",
    "for i in files:\n",
    "    d = {}\n",
    "    d[\"path\"] = i\n",
    "    \n",
    "    with open(i, \"r\", encoding=\"utf-8\") as file: \n",
    "        d[\"content\"] = file.read()\n",
    "        \n",
    "    d_files.append(d)"
   ]
  },
  {
   "cell_type": "code",
   "execution_count": 41,
   "id": "8baf7509-3642-4fcf-a5c9-f415fc80ea0e",
   "metadata": {},
   "outputs": [
    {
     "name": "stdout",
     "output_type": "stream",
     "text": [
      "{'path': 'diary\\\\2023-10-27.txt', 'content': 'Today was my first day at school. Since we recently shifted to this city, everything here is new to me. It is a little difficult and often frustrating to get adjusted to everything, especially the people. The school was great though. My biggest struggle today was to find my class before the assembly began. Once I succeeded in wading through the swarms of students everything was fine. For the most part, the day was uneventful, except for me being asked to introduce myself over and over again by every teacher that came. I made a few new friends too. Raman, my bench partner, plays football. He invited me to play with him after school but I had to decline since I hadn’t informed mom. I will go tomorrow though. I am sure I’ll have great fun. I have already begun to like this place.\\n'}\n"
     ]
    }
   ],
   "source": [
    "print(d_files[6])"
   ]
  },
  {
   "cell_type": "markdown",
   "id": "09acb0fc-2636-4cae-adfa-d8b010fec282",
   "metadata": {},
   "source": [
    "# Import nltk sentimient analyzer"
   ]
  },
  {
   "cell_type": "code",
   "execution_count": 43,
   "id": "94d79719-83b0-4466-b242-6aab6451c7ad",
   "metadata": {},
   "outputs": [],
   "source": [
    "from nltk.sentiment import SentimentIntensityAnalyzer"
   ]
  },
  {
   "cell_type": "code",
   "execution_count": 44,
   "id": "922f80b5-c814-496f-91e5-f2632e812bb8",
   "metadata": {},
   "outputs": [],
   "source": [
    "analyzer = SentimentIntensityAnalyzer()"
   ]
  },
  {
   "cell_type": "code",
   "execution_count": 45,
   "id": "26d25e5d-b4ed-4b46-8e58-2212b27d840a",
   "metadata": {},
   "outputs": [],
   "source": [
    "for i in d_files:\n",
    "    i[\"sent_analysis\"] = analyzer.polarity_scores(i[\"content\"])"
   ]
  },
  {
   "cell_type": "code",
   "execution_count": 48,
   "id": "dc49078e-d77b-407f-8656-887459a3b8b9",
   "metadata": {},
   "outputs": [
    {
     "name": "stdout",
     "output_type": "stream",
     "text": [
      "{'path': 'diary\\\\2023-10-27.txt', 'content': 'Today was my first day at school. Since we recently shifted to this city, everything here is new to me. It is a little difficult and often frustrating to get adjusted to everything, especially the people. The school was great though. My biggest struggle today was to find my class before the assembly began. Once I succeeded in wading through the swarms of students everything was fine. For the most part, the day was uneventful, except for me being asked to introduce myself over and over again by every teacher that came. I made a few new friends too. Raman, my bench partner, plays football. He invited me to play with him after school but I had to decline since I hadn’t informed mom. I will go tomorrow though. I am sure I’ll have great fun. I have already begun to like this place.\\n', 'sent_analysis': {'neg': 0.034, 'neu': 0.789, 'pos': 0.177, 'compound': 0.969}}\n"
     ]
    }
   ],
   "source": [
    "print(d_files[6])"
   ]
  },
  {
   "cell_type": "code",
   "execution_count": null,
   "id": "765f1520-abd5-4922-a115-253eee33460e",
   "metadata": {},
   "outputs": [],
   "source": []
  }
 ],
 "metadata": {
  "kernelspec": {
   "display_name": "Python 3 (ipykernel)",
   "language": "python",
   "name": "python3"
  },
  "language_info": {
   "codemirror_mode": {
    "name": "ipython",
    "version": 3
   },
   "file_extension": ".py",
   "mimetype": "text/x-python",
   "name": "python",
   "nbconvert_exporter": "python",
   "pygments_lexer": "ipython3",
   "version": "3.11.7"
  }
 },
 "nbformat": 4,
 "nbformat_minor": 5
}
